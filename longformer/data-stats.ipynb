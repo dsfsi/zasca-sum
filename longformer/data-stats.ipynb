{
 "cells": [
  {
   "cell_type": "code",
   "execution_count": 5,
   "metadata": {},
   "outputs": [],
   "source": [
    "import statistics\n",
    "import numpy as np\n",
    "import pandas as pd\n",
    "from scipy import stats\n",
    "import matplotlib.pyplot as plt\n",
    "from nltk.tokenize import word_tokenize"
   ]
  },
  {
   "cell_type": "code",
   "execution_count": 3,
   "metadata": {},
   "outputs": [],
   "source": [
    "train_data = pd.read_csv('../data/train.tsv', sep='\\t')\n",
    "val_data = pd.read_csv('../data/dev.tsv', sep='\\t')\n",
    "test_data = pd.read_csv('../data/test.tsv', sep='\\t')\n",
    "\n",
    "df = pd.concat([train_data, val_data, test_data])"
   ]
  },
  {
   "cell_type": "code",
   "execution_count": 4,
   "metadata": {},
   "outputs": [
    {
     "name": "stdout",
     "output_type": "stream",
     "text": [
      "69633 420\n"
     ]
    }
   ],
   "source": [
    "words = df['main'].apply(word_tokenize)\n",
    "word_lengths = words.apply(lambda x: len(x))\n",
    "\n",
    "print(max(word_lengths), min(word_lengths))"
   ]
  },
  {
   "cell_type": "code",
   "execution_count": 12,
   "metadata": {},
   "outputs": [
    {
     "name": "stdout",
     "output_type": "stream",
     "text": [
      "Length of items: 1,490\n",
      "Max: 7,014\n",
      "Min: 109\n",
      "Mean: 626.8\n",
      "Median: 537.0\n",
      "Mode: 458\n",
      "90th Percentile: 1,120.0\n",
      "7,014 & 109 & 626.8 & 537.0 & 458 & 1,120.0\n",
      "\n",
      "Length of items: 199\n",
      "Max: 6,741\n",
      "Min: 83\n",
      "Mean: 632.7\n",
      "Median: 538\n",
      "Mode: 346\n",
      "90th Percentile: 1,054.8\n",
      "6,741 & 83 & 632.7 & 538 & 346 & 1,054.8\n",
      "\n",
      "Length of items: 298\n",
      "Max: 2,285\n",
      "Min: 131\n",
      "Mean: 605.8\n",
      "Median: 516.0\n",
      "Mode: 498\n",
      "90th Percentile: 1,110.9\n",
      "2,285 & 131 & 605.8 & 516.0 & 498 & 1,110.9\n",
      "\n"
     ]
    }
   ],
   "source": [
    "for data in [train_data, val_data, test_data]:\n",
    "  word_lengths = data['media-summary'].apply(word_tokenize).apply(lambda x: len(x))\n",
    "\n",
    "  print(f\"Length of items: {len(data):,}\")\n",
    "  print(f\"Max: {max(word_lengths):,}\")\n",
    "  print(f\"Min: {min(word_lengths):,}\")\n",
    "  print(f\"Mean: {statistics.mean(word_lengths):,.1f}\")\n",
    "  print(f\"Median: {statistics.median(word_lengths):,}\")\n",
    "  print(f\"Mode: {statistics.mode(word_lengths):,}\")\n",
    "  print(f\"90th Percentile: {np.percentile(word_lengths, 90):,.1f}\")\n",
    "  print(f\"{max(word_lengths):,} & {min(word_lengths):,} & {statistics.mean(word_lengths):,.1f} & {statistics.median(word_lengths):,} & {statistics.mode(word_lengths):,} & {np.percentile(word_lengths, 90):,.1f}\\n\")"
   ]
  }
 ],
 "metadata": {
  "kernelspec": {
   "display_name": "unlimiformer",
   "language": "python",
   "name": "python3"
  },
  "language_info": {
   "codemirror_mode": {
    "name": "ipython",
    "version": 3
   },
   "file_extension": ".py",
   "mimetype": "text/x-python",
   "name": "python",
   "nbconvert_exporter": "python",
   "pygments_lexer": "ipython3",
   "version": "3.10.14"
  }
 },
 "nbformat": 4,
 "nbformat_minor": 2
}
